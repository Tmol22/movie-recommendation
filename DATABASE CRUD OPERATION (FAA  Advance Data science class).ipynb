{
 "cells": [
  {
   "cell_type": "code",
   "execution_count": 2,
   "id": "d86c74b1",
   "metadata": {},
   "outputs": [],
   "source": [
    "%matplotlib inline"
   ]
  },
  {
   "cell_type": "code",
   "execution_count": 3,
   "id": "83117209",
   "metadata": {},
   "outputs": [],
   "source": [
    "import sqlite3 as sql"
   ]
  },
  {
   "cell_type": "code",
   "execution_count": 4,
   "id": "f1862807",
   "metadata": {},
   "outputs": [],
   "source": [
    "connect = sql.connect('test.db')"
   ]
  },
  {
   "cell_type": "markdown",
   "id": "e34765dc",
   "metadata": {},
   "source": [
    "# Creating a table"
   ]
  },
  {
   "cell_type": "code",
   "execution_count": 5,
   "id": "7ac9ba0d",
   "metadata": {},
   "outputs": [
    {
     "data": {
      "text/plain": [
       "<sqlite3.Connection at 0x2ae30228210>"
      ]
     },
     "execution_count": 5,
     "metadata": {},
     "output_type": "execute_result"
    }
   ],
   "source": [
    "connect"
   ]
  },
  {
   "cell_type": "code",
   "execution_count": 6,
   "id": "e259bdcb",
   "metadata": {},
   "outputs": [
    {
     "name": "stdout",
     "output_type": "stream",
     "text": [
      "database connected sucessfully\n"
     ]
    }
   ],
   "source": [
    "connect = sql.connect('test.db')\n",
    "print ('database connected sucessfully')"
   ]
  },
  {
   "cell_type": "code",
   "execution_count": 10,
   "id": "9b63cc28",
   "metadata": {},
   "outputs": [
    {
     "ename": "OperationalError",
     "evalue": "table MOVIERECOMMENDATION already exists",
     "output_type": "error",
     "traceback": [
      "\u001b[1;31m---------------------------------------------------------------------------\u001b[0m",
      "\u001b[1;31mOperationalError\u001b[0m                          Traceback (most recent call last)",
      "Input \u001b[1;32mIn [10]\u001b[0m, in \u001b[0;36m<cell line: 2>\u001b[1;34m()\u001b[0m\n\u001b[0;32m      1\u001b[0m \u001b[38;5;66;03m# To create a table we use the execute method followed by the command create table table-name inside ther\u001b[39;00m\n\u001b[1;32m----> 2\u001b[0m \u001b[43mconnect\u001b[49m\u001b[38;5;241;43m.\u001b[39;49m\u001b[43mexecute\u001b[49m\u001b[43m(\u001b[49m\u001b[38;5;124;43m'''\u001b[39;49m\u001b[38;5;124;43mCREATE TABLE MOVIERECOMMENDATION\u001b[39;49m\n\u001b[0;32m      3\u001b[0m \u001b[38;5;124;43m                    (ID INT PRIMARY KEY NOT NULL,\u001b[39;49m\n\u001b[0;32m      4\u001b[0m \u001b[38;5;124;43m                    NAME TEXT NOT NULL,\u001b[39;49m\n\u001b[0;32m      5\u001b[0m \u001b[38;5;124;43m                    MOVIENAME TEXT NOT NULL,\u001b[39;49m\n\u001b[0;32m      6\u001b[0m \u001b[38;5;124;43m                    GENRE TEXT NOT NULL,\u001b[39;49m\n\u001b[0;32m      7\u001b[0m \u001b[38;5;124;43m                    RATING TEXT NOT NULL,\u001b[39;49m\n\u001b[0;32m      8\u001b[0m \u001b[38;5;124;43m                    DATERELEASED TEXT NOT NULL\u001b[39;49m\n\u001b[0;32m      9\u001b[0m \u001b[38;5;124;43m                    )\u001b[39;49m\u001b[38;5;124;43m'''\u001b[39;49m\u001b[43m)\u001b[49m\n\u001b[0;32m     11\u001b[0m \u001b[38;5;28mprint\u001b[39m(\u001b[38;5;124m\"\u001b[39m\u001b[38;5;124mTable successfully created\u001b[39m\u001b[38;5;124m\"\u001b[39m)\n",
      "\u001b[1;31mOperationalError\u001b[0m: table MOVIERECOMMENDATION already exists"
     ]
    }
   ],
   "source": [
    "# To create a table we use the execute method followed by the command create table table-name inside ther\n",
    "connect.execute('''CREATE TABLE MOVIERECOMMENDATION\n",
    "                    (ID INT PRIMARY KEY NOT NULL,\n",
    "                    NAME TEXT NOT NULL,\n",
    "                    MOVIENAME TEXT NOT NULL,\n",
    "                    GENRE TEXT NOT NULL,\n",
    "                    RATING TEXT NOT NULL,\n",
    "                    DATERELEASED TEXT NOT NULL\n",
    "                    )''')\n",
    "\n",
    "print(\"Table successfully created\")"
   ]
  },
  {
   "cell_type": "code",
   "execution_count": 12,
   "id": "43e3784a",
   "metadata": {},
   "outputs": [
    {
     "name": "stdout",
     "output_type": "stream",
     "text": [
      "values inserted into movie recommendation table\n"
     ]
    }
   ],
   "source": [
    "connect.execute(\"INSERT INTO MOVIERECOMMENDATION (ID, NAME, MOVIENAME, GENRE, RATING, DATERELEASED) \\\n",
    "                 VALUES(1, 'Toliat', 'Anikulapo', 'Drama', 3, '02/09/2022')\");\n",
    "connect.execute(\"INSERT INTO MOVIERECOMMENDATION (ID, NAME, MOVIENAME, GENRE, RATING, DATERELEASED) \\\n",
    "                VALUES(2, 'Moyato', 'Gone girl', 'Thriller', 4, '02/09/2021')\");\n",
    "connect.execute(\"INSERT INTO MOVIERECOMMENDATION (ID, NAME, MOVIENAME, GENRE, RATING, DATERELEASED) \\\n",
    "                VALUES(3, 'Elijah', 'Thor','Action', 4, '02/06/2022')\");\n",
    "connect.execute(\"INSERT INTO MOVIERECOMMENDATION (ID, NAME, MOVIENAME, GENRE, RATING, DATERELEASED) \\\n",
    "                VALUES(4, 'Paul', 'The lost city', 'Comedy', 4, '02/09/2020')\");\n",
    "connect.commit()\n",
    "print('values inserted into movie recommendation table')\n",
    "#connect.close()"
   ]
  },
  {
   "cell_type": "markdown",
   "id": "8daf09e4",
   "metadata": {},
   "source": []
  },
  {
   "cell_type": "markdown",
   "id": "33dd273b",
   "metadata": {},
   "source": [
    "# SELECT OPERATION"
   ]
  },
  {
   "cell_type": "code",
   "execution_count": 31,
   "id": "51b60303",
   "metadata": {},
   "outputs": [],
   "source": [
    "# SELECT COLOUMN_NAME FROM TABLE_NAME\n",
    "GETALLVALUES = connect.execute(\"SELECT ID, NAME, MOVIENAME, GENRE, RATING, DATERELEASED FROM MOVIERECOMMENDATION\")"
   ]
  },
  {
   "cell_type": "code",
   "execution_count": 32,
   "id": "2e49045f",
   "metadata": {},
   "outputs": [
    {
     "data": {
      "text/plain": [
       "[(5, 'Toliat', 'Anikulapo', 'Drama', '3', '02/09/2022'),\n",
       " (1, 'Toliat', 'Anikulapo', 'Drama', '3', '02/09/2022'),\n",
       " (2, 'Moyato', 'Gone girl', 'Thriller', '4', '02/09/2021'),\n",
       " (3, 'Elijah', 'Thor', 'Action', '4', '02/06/2022'),\n",
       " (4, 'Paul', 'The lost city', 'Comedy', '4', '02/09/2020')]"
      ]
     },
     "execution_count": 32,
     "metadata": {},
     "output_type": "execute_result"
    }
   ],
   "source": [
    "GETALLVALUES.fetchall()"
   ]
  },
  {
   "cell_type": "code",
   "execution_count": 33,
   "id": "262ccfaf",
   "metadata": {},
   "outputs": [
    {
     "data": {
      "text/plain": [
       "<sqlite3.Cursor at 0x2ae30310260>"
      ]
     },
     "execution_count": 33,
     "metadata": {},
     "output_type": "execute_result"
    }
   ],
   "source": [
    "GETALLVALUES"
   ]
  },
  {
   "cell_type": "code",
   "execution_count": 34,
   "id": "b239ca2f",
   "metadata": {},
   "outputs": [],
   "source": [
    "# for val in GETALLVALUES.fetchall():\n",
    "#     print(val)"
   ]
  },
  {
   "cell_type": "code",
   "execution_count": 35,
   "id": "a3695414",
   "metadata": {},
   "outputs": [],
   "source": [
    "# SELECT COLOUMN_NAME FROM TABLE_NAME\n",
    "GETRATINGSGREATERTHANTHREE = connect.execute(\"SELECT MOVIENAME, GENRE, DATERELEASED FROM MOVIERECOMMENDATION\")"
   ]
  },
  {
   "cell_type": "code",
   "execution_count": 36,
   "id": "63ef9411",
   "metadata": {},
   "outputs": [
    {
     "data": {
      "text/plain": [
       "[('Anikulapo', 'Drama', '02/09/2022'),\n",
       " ('Anikulapo', 'Drama', '02/09/2022'),\n",
       " ('Gone girl', 'Thriller', '02/09/2021'),\n",
       " ('Thor', 'Action', '02/06/2022'),\n",
       " ('The lost city', 'Comedy', '02/09/2020')]"
      ]
     },
     "execution_count": 36,
     "metadata": {},
     "output_type": "execute_result"
    }
   ],
   "source": [
    "GETRATINGSGREATERTHANTHREE.fetchall()"
   ]
  },
  {
   "cell_type": "code",
   "execution_count": 39,
   "id": "fa1da65f",
   "metadata": {},
   "outputs": [],
   "source": [
    "# SELECT COLOUMN_NAME FROM TABLE_NAME\n",
    "GETPAUL =connect.execute(\"SELECT * FROM MOVIERECOMMENDATION WHERE NAME = 'Paul'\")"
   ]
  },
  {
   "cell_type": "code",
   "execution_count": 40,
   "id": "e585e4ff",
   "metadata": {},
   "outputs": [
    {
     "data": {
      "text/plain": [
       "[(4, 'Paul', 'The lost city', 'Comedy', '4', '02/09/2020')]"
      ]
     },
     "execution_count": 40,
     "metadata": {},
     "output_type": "execute_result"
    }
   ],
   "source": [
    "GETPAUL.fetchall()"
   ]
  },
  {
   "cell_type": "markdown",
   "id": "0fd3f706",
   "metadata": {},
   "source": [
    "# Update operation"
   ]
  },
  {
   "cell_type": "code",
   "execution_count": 41,
   "id": "24e939fd",
   "metadata": {},
   "outputs": [],
   "source": [
    "# UPDATE TABLE SET COLOUMN_NAME = VALUE\n",
    "UPDATEANIKULAPORATING = connect.execute(\"UPDATE MOVIERECOMMENDATION SET RATING = 4 WHERE ID= 1\")"
   ]
  },
  {
   "cell_type": "code",
   "execution_count": 42,
   "id": "ff1a7ffa",
   "metadata": {},
   "outputs": [
    {
     "data": {
      "text/plain": [
       "[]"
      ]
     },
     "execution_count": 42,
     "metadata": {},
     "output_type": "execute_result"
    }
   ],
   "source": [
    "UPDATEANIKULAPORATING.fetchall()"
   ]
  },
  {
   "cell_type": "code",
   "execution_count": 43,
   "id": "4a30aace",
   "metadata": {},
   "outputs": [],
   "source": [
    "# SELECT COLOUMN_NAME FROM TABLE_NAME\n",
    "GETALLVALUES = connect.execute(\"SELECT * FROM MOVIERECOMMENDATION\")"
   ]
  },
  {
   "cell_type": "code",
   "execution_count": 44,
   "id": "fbd7c700",
   "metadata": {},
   "outputs": [
    {
     "data": {
      "text/plain": [
       "[(5, 'Toliat', 'Anikulapo', 'Drama', '3', '02/09/2022'),\n",
       " (1, 'Toliat', 'Anikulapo', 'Drama', '4', '02/09/2022'),\n",
       " (2, 'Moyato', 'Gone girl', 'Thriller', '4', '02/09/2021'),\n",
       " (3, 'Elijah', 'Thor', 'Action', '4', '02/06/2022'),\n",
       " (4, 'Paul', 'The lost city', 'Comedy', '4', '02/09/2020')]"
      ]
     },
     "execution_count": 44,
     "metadata": {},
     "output_type": "execute_result"
    }
   ],
   "source": [
    "GETALLVALUES.fetchall()"
   ]
  },
  {
   "cell_type": "markdown",
   "id": "5ff410be",
   "metadata": {},
   "source": [
    "# DELETE OPERATION"
   ]
  },
  {
   "cell_type": "code",
   "execution_count": 45,
   "id": "e839d4ba",
   "metadata": {},
   "outputs": [],
   "source": [
    "# DELETE FROM TABLE_NAME WHERE COLOUMN_NAME MATCHES OPERATION\n",
    "INSERTANEWROW= connect.execute(\"SELECT * FROM MOVIERECOMMENDATION\")\n",
    "connect.execute(\"INSERT INTO MOVIERECOMMENDATION (ID, NAME, MOVIENAME, GENRE, RATING, DATERELEASED) \\\n",
    "                 VALUES(7,'Anonymous', 'Shaolin Soccer', 'Sport',3, '02/09/2012')\");"
   ]
  },
  {
   "cell_type": "code",
   "execution_count": 46,
   "id": "5ea01264",
   "metadata": {},
   "outputs": [
    {
     "data": {
      "text/plain": [
       "[(5, 'Toliat', 'Anikulapo', 'Drama', '3', '02/09/2022'),\n",
       " (1, 'Toliat', 'Anikulapo', 'Drama', '4', '02/09/2022'),\n",
       " (2, 'Moyato', 'Gone girl', 'Thriller', '4', '02/09/2021'),\n",
       " (3, 'Elijah', 'Thor', 'Action', '4', '02/06/2022'),\n",
       " (4, 'Paul', 'The lost city', 'Comedy', '4', '02/09/2020'),\n",
       " (7, 'Anonymous', 'Shaolin Soccer', 'Sport', '3', '02/09/2012')]"
      ]
     },
     "execution_count": 46,
     "metadata": {},
     "output_type": "execute_result"
    }
   ],
   "source": [
    "connect.execute(\"SELECT * FROM MOVIERECOMMENDATION\").fetchall()"
   ]
  },
  {
   "cell_type": "code",
   "execution_count": 48,
   "id": "42a303e0",
   "metadata": {},
   "outputs": [
    {
     "name": "stdout",
     "output_type": "stream",
     "text": [
      "Row with id=7 has been deleted\n"
     ]
    }
   ],
   "source": [
    "DELETEANONYMOUS = connect.execute(\"DELETE FROM MOVIERECOMMENDATION WHERE ID=7  \").fetchall()\n",
    "print(\"Row with id=7 has been deleted\")"
   ]
  },
  {
   "cell_type": "code",
   "execution_count": 49,
   "id": "5e3d797a",
   "metadata": {},
   "outputs": [
    {
     "data": {
      "text/plain": [
       "[(5, 'Toliat', 'Anikulapo', 'Drama', '3', '02/09/2022'),\n",
       " (1, 'Toliat', 'Anikulapo', 'Drama', '4', '02/09/2022'),\n",
       " (2, 'Moyato', 'Gone girl', 'Thriller', '4', '02/09/2021'),\n",
       " (3, 'Elijah', 'Thor', 'Action', '4', '02/06/2022'),\n",
       " (4, 'Paul', 'The lost city', 'Comedy', '4', '02/09/2020')]"
      ]
     },
     "execution_count": 49,
     "metadata": {},
     "output_type": "execute_result"
    }
   ],
   "source": [
    "connect.execute(\"SELECT * FROM MOVIERECOMMENDATION\").fetchall()"
   ]
  },
  {
   "cell_type": "code",
   "execution_count": null,
   "id": "88c317a3",
   "metadata": {},
   "outputs": [],
   "source": []
  }
 ],
 "metadata": {
  "kernelspec": {
   "display_name": "Python 3 (ipykernel)",
   "language": "python",
   "name": "python3"
  },
  "language_info": {
   "codemirror_mode": {
    "name": "ipython",
    "version": 3
   },
   "file_extension": ".py",
   "mimetype": "text/x-python",
   "name": "python",
   "nbconvert_exporter": "python",
   "pygments_lexer": "ipython3",
   "version": "3.9.12"
  }
 },
 "nbformat": 4,
 "nbformat_minor": 5
}
